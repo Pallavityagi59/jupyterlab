{
 "cells": [
  {
   "cell_type": "markdown",
   "metadata": {},
   "source": [
    "# Loops and Iteration"
   ]
  },
  {
   "cell_type": "markdown",
   "metadata": {},
   "source": [
    "__Do It Yourself 5.2.1__"
   ]
  },
  {
   "cell_type": "markdown",
   "metadata": {},
   "source": [
    "Given\n",
    "\n",
    "```\n",
    "peptides = [\n",
    "'GYSAR', 'HILNEKRILQAID', 'DNSYLY'\n",
    "]\n",
    "```\n",
    "\n",
    "format:\n",
    "\n",
    "```\n",
    "Peptide XXXX at index X contains X amino acids.\n",
    "```\n",
    "\n"
   ]
  },
  {
   "cell_type": "code",
   "execution_count": null,
   "metadata": {},
   "outputs": [],
   "source": []
  },
  {
   "cell_type": "code",
   "execution_count": null,
   "metadata": {},
   "outputs": [],
   "source": []
  },
  {
   "cell_type": "markdown",
   "metadata": {},
   "source": [
    "__Do It Yourself 5.2.2__"
   ]
  },
  {
   "cell_type": "markdown",
   "metadata": {},
   "source": [
    "Write a for loop to display the values of a tuple defined as:\n",
    "\n",
    "```\n",
    "protein_kinases = ('PKA', 'PKC', 'MPAK', 'GSK3', 'CK1')\n",
    "```\n",
    "\n",
    "such that each protein is displayed on a new line and follows the phrase Protein Kinase X: as in\n",
    "\n",
    "```\n",
    "Protein Kinase 1: PKA\n",
    "Protein Kinase 2: PKC\n",
    "```\n",
    "\n",
    "and so on.\n"
   ]
  },
  {
   "cell_type": "code",
   "execution_count": null,
   "metadata": {},
   "outputs": [],
   "source": []
  },
  {
   "cell_type": "code",
   "execution_count": null,
   "metadata": {},
   "outputs": [],
   "source": []
  },
  {
   "cell_type": "markdown",
   "metadata": {},
   "source": [
    "__Do It Yourself 5.2.3__"
   ]
  },
  {
   "cell_type": "markdown",
   "metadata": {},
   "source": [
    "Given \n",
    "\n",
    "```\n",
    "peptides = [ 'GYSAR',\n",
    "'HILNEKRILQAID',\n",
    "'DNSYLY'\n",
    "]\n",
    "```\n",
    "\n",
    "write a for-loop in which you determine the length of each sequence in peptides, and then store the results as a list of tuple items as follows:\n",
    "\n",
    "```\n",
    "[('SEQUENCE_1', X), ('SEQUENCE_2', X), ...]\n",
    "```\n"
   ]
  },
  {
   "cell_type": "code",
   "execution_count": null,
   "metadata": {},
   "outputs": [],
   "source": []
  },
  {
   "cell_type": "code",
   "execution_count": null,
   "metadata": {},
   "outputs": [],
   "source": []
  },
  {
   "cell_type": "markdown",
   "metadata": {},
   "source": [
    "__Do It Yourself 5.2.4__"
   ]
  },
  {
   "cell_type": "markdown",
   "metadata": {},
   "source": [
    "Given \n",
    "\n",
    "```\n",
    "characters = ['1', '2', '3', '4']\n",
    "```\n",
    "\n",
    "Display each item in characters as many times in one line as the index of that item in characters. The results should appear as follows:\n",
    "\n",
    "```\n",
    "2\n",
    "33 \n",
    "444\n",
    "```\n"
   ]
  },
  {
   "cell_type": "code",
   "execution_count": null,
   "metadata": {},
   "outputs": [],
   "source": []
  },
  {
   "cell_type": "code",
   "execution_count": null,
   "metadata": {},
   "outputs": [],
   "source": []
  },
  {
   "cell_type": "markdown",
   "metadata": {},
   "source": [
    "__Do It Yourself 5.2.5__"
   ]
  },
  {
   "cell_type": "markdown",
   "metadata": {},
   "source": [
    "Given \n",
    "\n",
    "```\n",
    "peptides = [\n",
    "    'FAEKE', \n",
    "    'CDYSK', \n",
    "    'ATAMGNAPAKKDT', \n",
    "    'YSFQW', \n",
    "    'KRFGNLR', \n",
    "    'EKKVEAPF', \n",
    "    'GMGSFGRVML', \n",
    "    'YSFQMGSFGRW', \n",
    "    'YSFQMGSFGRW'\n",
    "]\n",
    "```\n",
    "\n",
    "Using a for-loop and a conditional statement, find and display the sequences in peptides that contain the amino acid serine (S) in the following format:\n",
    "\n",
    "```\n",
    "Found S in XXXXX.\n",
    "```\n"
   ]
  },
  {
   "cell_type": "code",
   "execution_count": null,
   "metadata": {},
   "outputs": [],
   "source": []
  },
  {
   "cell_type": "code",
   "execution_count": null,
   "metadata": {},
   "outputs": [],
   "source": []
  },
  {
   "cell_type": "markdown",
   "metadata": {},
   "source": [
    "__Do It Yourself 5.3.1__"
   ]
  },
  {
   "cell_type": "markdown",
   "metadata": {},
   "source": [
    "1. Write a script which asks the user to enter a number, then:\n",
    "\n",
    "- if the second power of the number is smaller than 10, repeat the process and ask again;\n",
    "- if the second power of the number is equal or greater than 10, display the original value and terminate the programme.\n",
    "\n",
    "__Hint:__ Don’t forget to convert the value enter by the user to an appropriate numeric type before you perform any mathematical operations.\n",
    "\n",
    "2. We learned in subsection 5.2.4 that the built-in function range() may be utilised to produce a sequence of integer numbers. The function takes 3 input arguments in the following order: stop, start, step. We now need a sequence of floating point numbers with the following criteria:\n",
    "\n",
    "```\n",
    "stop = 10 \n",
    "start = 0 \n",
    "step = 0.5\n",
    "```\n",
    "\n",
    "The use of a floating point number as step means that we cannot use __range()__ to create the desired sequence. Write a script in which you use a while-loop to produce a sequence of floating point numbers with the above criteria and display the result.\n",
    "\n",
    "The resulting sequence must be:\n",
    "- presented as an instance of type \"list\";\n",
    "- similar to __range()__, the sequence must be non-inclusive — i.e. it must include the value of start, but not that of stop.\n"
   ]
  },
  {
   "cell_type": "code",
   "execution_count": null,
   "metadata": {},
   "outputs": [],
   "source": []
  },
  {
   "cell_type": "code",
   "execution_count": null,
   "metadata": {},
   "outputs": [],
   "source": []
  }
 ],
 "metadata": {
  "kernelspec": {
   "display_name": "Python 3 (ipykernel)",
   "language": "python",
   "name": "python3"
  },
  "language_info": {
   "codemirror_mode": {
    "name": "ipython",
    "version": 3
   },
   "file_extension": ".py",
   "mimetype": "text/x-python",
   "name": "python",
   "nbconvert_exporter": "python",
   "pygments_lexer": "ipython3",
   "version": "3.8.11"
  },
  "toc-autonumbering": false,
  "toc-showmarkdowntxt": false,
  "toc-showtags": false
 },
 "nbformat": 4,
 "nbformat_minor": 4
}
